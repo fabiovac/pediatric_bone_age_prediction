{
 "cells": [
  {
   "cell_type": "markdown",
   "metadata": {},
   "source": [
    "# Preprocessing"
   ]
  },
  {
   "cell_type": "code",
   "execution_count": 2,
   "metadata": {
    "id": "9CZQeX3sb5dA"
   },
   "outputs": [],
   "source": [
    "from os import listdir\n",
    "from PIL import Image"
   ]
  },
  {
   "cell_type": "code",
   "execution_count": 8,
   "metadata": {
    "colab": {
     "base_uri": "https://localhost:8080/"
    },
    "id": "7eEo9K81Z-Mn",
    "outputId": "93c15465-cc92-45fb-a08b-2d2cf2031712"
   },
   "outputs": [],
   "source": [
    "def resize_dataset(dataset_path_input, dataset_path_output=None, color=0, desired_size=512):\n",
    "  images_path = listdir(dataset_path_input)\n",
    "  images_size = len(images_path)\n",
    "    \n",
    "  for idx, file_name in enumerate(images_path):\n",
    "    print(f'\\r{((idx+1)/images_size*100):.2f}%', end='')\n",
    "\n",
    "    if (file_name.split('.')[1] == 'png'):\n",
    "      image = Image.open(dataset_path_input + '/' + file_name)\n",
    "\n",
    "      old_size = image.size\n",
    "\n",
    "      ratio = float(desired_size) / max(old_size)\n",
    "      new_size = tuple([int(x * ratio) for x in old_size])\n",
    "\n",
    "      image = image.resize(new_size)\n",
    "\n",
    "      new_image = Image.new('L', (desired_size, desired_size), color=color)\n",
    "      new_image.paste(image, ((desired_size - new_size[0])//2,\n",
    "                        (desired_size - new_size[1])//2))\n",
    "      \n",
    "      if dataset_path_output:\n",
    "        new_image.save(dataset_path_output + '/' + file_name)\n",
    "      else:\n",
    "        return new_image"
   ]
  },
  {
   "cell_type": "code",
   "execution_count": 4,
   "metadata": {
    "collapsed": false,
    "jupyter": {
     "outputs_hidden": false
    },
    "pycharm": {
     "name": "#%%\n"
    }
   },
   "outputs": [
    {
     "name": "stdout",
     "output_type": "stream",
     "text": [
      "100.00%"
     ]
    }
   ],
   "source": [
    "resize_dataset('datasets/boneage-train-dataset', 'datasets/boneage-train-dataset-preprocessed-1')"
   ]
  },
  {
   "cell_type": "code",
   "execution_count": 5,
   "metadata": {
    "collapsed": false,
    "jupyter": {
     "outputs_hidden": false
    },
    "pycharm": {
     "name": "#%%\n"
    }
   },
   "outputs": [
    {
     "name": "stdout",
     "output_type": "stream",
     "text": [
      "100.00%"
     ]
    }
   ],
   "source": [
    "resize_dataset('datasets/boneage-val-dataset', 'datasets/boneage-val-dataset-preprocessed-1')"
   ]
  },
  {
   "cell_type": "code",
   "execution_count": 6,
   "metadata": {
    "collapsed": false,
    "jupyter": {
     "outputs_hidden": false
    },
    "pycharm": {
     "name": "#%%\n"
    }
   },
   "outputs": [
    {
     "name": "stdout",
     "output_type": "stream",
     "text": [
      "100.00%"
     ]
    }
   ],
   "source": [
    "resize_dataset('datasets/boneage-test-dataset', 'datasets/boneage-test-dataset-preprocessed-1')"
   ]
  },
  {
   "cell_type": "code",
   "execution_count": 10,
   "metadata": {},
   "outputs": [
    {
     "name": "stdout",
     "output_type": "stream",
     "text": [
      "100.00%"
     ]
    }
   ],
   "source": [
    "resize_dataset('datasets/annotations', 'datasets/annotations-preprocessed-2', desired_size=500)"
   ]
  },
  {
   "cell_type": "code",
   "execution_count": 11,
   "metadata": {},
   "outputs": [],
   "source": [
    "def rescale_dataset(dataset_path_input, dataset_path_output=None, desired_size=512):\n",
    "    images_path = listdir(dataset_path_input)\n",
    "    images_size = len(images_path)\n",
    "    \n",
    "    for idx, file_name in enumerate(images_path):\n",
    "        print(f'\\r{((idx+1)/images_size*100):.2f}%', end='')\n",
    "        \n",
    "        if (file_name.split('.')[1] == 'png'):\n",
    "            image = Image.open(dataset_path_input + '/' + file_name).convert('1')\n",
    "            if image.size != (desired_size, desired_size):\n",
    "                image = image.resize((desired_size, desired_size), resample=Image.LANCZOS)\n",
    "            image.save(dataset_path_output + '/' + file_name)"
   ]
  },
  {
   "cell_type": "code",
   "execution_count": 10,
   "metadata": {},
   "outputs": [
    {
     "name": "stdout",
     "output_type": "stream",
     "text": [
      "100.00%"
     ]
    }
   ],
   "source": [
    "rescale_dataset('../Project_2/annotations/annotations_200_v1', '../Project_2/annotations/annotations_200_v2', desired_size=512)"
   ]
  },
  {
   "cell_type": "code",
   "execution_count": 12,
   "metadata": {},
   "outputs": [
    {
     "name": "stdout",
     "output_type": "stream",
     "text": [
      "100.00%"
     ]
    }
   ],
   "source": [
    "rescale_dataset('../Project_2/annotations/annotations_300_v1', '../Project_2/annotations/annotations_300_v2', desired_size=512)"
   ]
  },
  {
   "cell_type": "code",
   "execution_count": null,
   "metadata": {},
   "outputs": [],
   "source": []
  }
 ],
 "metadata": {
  "colab": {
   "name": "Preprocessing.ipynb",
   "provenance": []
  },
  "kernelspec": {
   "display_name": "Python 3 (ipykernel)",
   "language": "python",
   "name": "python3"
  },
  "language_info": {
   "codemirror_mode": {
    "name": "ipython",
    "version": 3
   },
   "file_extension": ".py",
   "mimetype": "text/x-python",
   "name": "python",
   "nbconvert_exporter": "python",
   "pygments_lexer": "ipython3",
   "version": "3.9.7"
  }
 },
 "nbformat": 4,
 "nbformat_minor": 4
}
