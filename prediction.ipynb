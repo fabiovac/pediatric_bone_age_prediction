{
 "cells": [
  {
   "cell_type": "markdown",
   "metadata": {},
   "source": [
    "# Prediction model"
   ]
  },
  {
   "cell_type": "markdown",
   "metadata": {
    "id": "xh0lwIElpSvi"
   },
   "source": [
    "## Imports and Drive mount"
   ]
  },
  {
   "cell_type": "code",
   "execution_count": null,
   "metadata": {
    "colab": {
     "base_uri": "https://localhost:8080/"
    },
    "executionInfo": {
     "elapsed": 21308,
     "status": "ok",
     "timestamp": 1644591281447,
     "user": {
      "displayName": "Fabio Vaccaro",
      "photoUrl": "https://lh3.googleusercontent.com/a-/AOh14GhpziRTRn5IdYVlq8ZdCz_7uBXByyMo0pLU1Zf7tQ=s64",
      "userId": "14112562949732189780"
     },
     "user_tz": -60
    },
    "id": "qkW1tq29uwr7",
    "outputId": "c06a40ad-d3c3-48a7-cd5a-2a55a396cc04"
   },
   "outputs": [
    {
     "name": "stdout",
     "output_type": "stream",
     "text": [
      "Mounted at /content/drive\n"
     ]
    }
   ],
   "source": [
    "#Only in case you run the project on Colab\n",
    "from google.colab import drive\n",
    "drive.mount('/content/drive')\n",
    "\n",
    "!pip install -U tensorflow-addons"
   ]
  },
  {
   "cell_type": "code",
   "execution_count": 1,
   "metadata": {
    "executionInfo": {
     "elapsed": 1495,
     "status": "ok",
     "timestamp": 1644591260143,
     "user": {
      "displayName": "Fabio Vaccaro",
      "photoUrl": "https://lh3.googleusercontent.com/a-/AOh14GhpziRTRn5IdYVlq8ZdCz_7uBXByyMo0pLU1Zf7tQ=s64",
      "userId": "14112562949732189780"
     },
     "user_tz": -60
    },
    "id": "ic8JCb5L73uX"
   },
   "outputs": [],
   "source": [
    "# Imports\n",
    "import tensorflow as tf\n",
    "import tensorflow_addons as tfa\n",
    "import pandas as pd\n",
    "import numpy as np\n",
    "import matplotlib.pyplot as plt\n",
    "import os"
   ]
  },
  {
   "cell_type": "markdown",
   "metadata": {
    "id": "iAElonAWuUAp"
   },
   "source": [
    "## Project info"
   ]
  },
  {
   "cell_type": "code",
   "execution_count": 3,
   "metadata": {
    "executionInfo": {
     "elapsed": 6,
     "status": "ok",
     "timestamp": 1644591281966,
     "user": {
      "displayName": "Fabio Vaccaro",
      "photoUrl": "https://lh3.googleusercontent.com/a-/AOh14GhpziRTRn5IdYVlq8ZdCz_7uBXByyMo0pLU1Zf7tQ=s64",
      "userId": "14112562949732189780"
     },
     "user_tz": -60
    },
    "id": "GUfZmpvVCO-f"
   },
   "outputs": [],
   "source": [
    "boneage_min = 1.0\n",
    "boneage_max = 228.0\n",
    "image_size = (512, 512)\n",
    "\n",
    "debug = False\n",
    "info = True\n",
    "initial_epoch = 0\n",
    "model_name = 'prediction_model'"
   ]
  },
  {
   "cell_type": "code",
   "execution_count": 4,
   "metadata": {
    "executionInfo": {
     "elapsed": 6,
     "status": "ok",
     "timestamp": 1644591281967,
     "user": {
      "displayName": "Fabio Vaccaro",
      "photoUrl": "https://lh3.googleusercontent.com/a-/AOh14GhpziRTRn5IdYVlq8ZdCz_7uBXByyMo0pLU1Zf7tQ=s64",
      "userId": "14112562949732189780"
     },
     "user_tz": -60
    },
    "id": "64QAkxQYuXex"
   },
   "outputs": [],
   "source": [
    "# Path to the project and the dataset\n",
    "project_path = '/content/drive/MyDrive/Uni/HDA/Project' # Used to train in Colab\n",
    "#project_path = ''                                      # Used to train locally\n",
    "\n",
    "train_dataset_path = os.path.join(project_path, 'datasets/boneage-train-dataset-preprocessed-2')\n",
    "train_labels_file = os.path.join(project_path, 'datasets/train_labels.csv')\n",
    "val_dataset_path = os.path.join(project_path, 'datasets/boneage-val-dataset-preprocessed-2')\n",
    "val_labels_file = os.path.join(project_path, 'datasets/val_labels.csv')\n",
    "test_dataset_path = os.path.join(project_path, 'datasets/boneage-test-dataset-preprocessed-2')\n",
    "test_labels_file = os.path.join(project_path, 'datasets/test_labels.csv')\n",
    "\n",
    "model_file = os.path.join(project_path, f'models/{model_name}.h5')\n",
    "checkpoints_file = os.path.join(project_path, 'checkpoints/', f'{model_name}-checkpoint.h5')\n",
    "log_file = os.path.join(project_path, f'logs/{model_name}-log.csv')"
   ]
  },
  {
   "cell_type": "markdown",
   "metadata": {
    "id": "_-gRgq5fpVbE"
   },
   "source": [
    "## Dataset"
   ]
  },
  {
   "cell_type": "code",
   "execution_count": 5,
   "metadata": {
    "executionInfo": {
     "elapsed": 6,
     "status": "ok",
     "timestamp": 1644591281967,
     "user": {
      "displayName": "Fabio Vaccaro",
      "photoUrl": "https://lh3.googleusercontent.com/a-/AOh14GhpziRTRn5IdYVlq8ZdCz_7uBXByyMo0pLU1Zf7tQ=s64",
      "userId": "14112562949732189780"
     },
     "user_tz": -60
    },
    "id": "PWc9sGdzkDOW"
   },
   "outputs": [],
   "source": [
    "def deg_to_rad(angle_deg):\n",
    "  return angle_deg * np.pi / 180\n",
    "\n",
    "def read(image_path, male):\n",
    "  # Reads the image from the image path and normalize\n",
    "  image = tf.io.read_file(image_path)\n",
    "  image = tf.io.decode_png(image, channels=1)\n",
    "  image = tf.image.convert_image_dtype(image, tf.float32)\n",
    "  image = (image - 0.5) * 2\n",
    "\n",
    "  # Normelize male\n",
    "  male = tf.cast(male, tf.float32)\n",
    "\n",
    "  return image, male\n",
    "\n",
    "# Preprocess each image starting from the image path\n",
    "def preprocess(image, male, size=image_size):\n",
    "  # Makes data augmentation\n",
    "  # Rotation\n",
    "  angle = tf.random.uniform(shape=(), minval=-deg_to_rad(20), maxval=deg_to_rad(20+1))\n",
    "  image = tfa.image.rotate(images=image, angles=angle, fill_mode='nearest')\n",
    "\n",
    "  # Translation\n",
    "  translation = tf.random.uniform(shape=(2,), minval=-size[0]*0.2, maxval=+size[0]*0.2+1)\n",
    "  image = tfa.image.translate(images=image, translations=translation, fill_mode='nearest')\n",
    "\n",
    "  # Zoom\n",
    "  zoom_scale = tf.random.uniform(shape=(1,), minval=0.0, maxval=0.2, dtype=tf.float64)\n",
    "  spare_space = zoom_scale[0]\n",
    "  new_space = 1 - spare_space\n",
    "  if spare_space == 0:\n",
    "    x1 = spare_space\n",
    "    y1 = spare_space\n",
    "  else:\n",
    "    x1 = tf.random.uniform(shape=(1,), minval=0, maxval=spare_space, dtype=tf.float64)[0]\n",
    "    y1 = tf.random.uniform(shape=(1,), minval=0, maxval=spare_space, dtype=tf.float64)[0]\n",
    "  x2, y2 = x1 + new_space, y1 + new_space\n",
    "  image = tf.expand_dims(image, axis=0)\n",
    "  image = tf.image.crop_and_resize(image, boxes=[[y1, x1, y2, x2]], box_indices=[0], crop_size=size)\n",
    "  image = tf.squeeze(image, 0)\n",
    "\n",
    "  # Orizontal flip \n",
    "  if tf.random.uniform(shape=(), minval=0, maxval=1) > 0.5:\n",
    "    image = tf.image.flip_left_right(image)\n",
    "\n",
    "  # Contrast\n",
    "  contrast_factor = tf.random.uniform(shape=(), minval=1, maxval=2)\n",
    "  image = tf.image.adjust_contrast(image, contrast_factor)\n",
    "\n",
    "  image = tf.image.grayscale_to_rgb(image)\n",
    "\n",
    "  return image, male\n",
    "\n",
    "def preprocess_test(image, male):\n",
    "  # Contrast\n",
    "  image = tf.image.adjust_contrast(image, 1.5)\n",
    "  image = tf.image.grayscale_to_rgb(image)\n",
    "\n",
    "  return image, male\n",
    "\n",
    "def normalize_y(boneage):\n",
    "  return tf.cast((boneage - boneage_min) / (boneage_max - boneage_min), tf.float32)\n"
   ]
  },
  {
   "cell_type": "code",
   "execution_count": 6,
   "metadata": {
    "executionInfo": {
     "elapsed": 6,
     "status": "ok",
     "timestamp": 1644591281967,
     "user": {
      "displayName": "Fabio Vaccaro",
      "photoUrl": "https://lh3.googleusercontent.com/a-/AOh14GhpziRTRn5IdYVlq8ZdCz_7uBXByyMo0pLU1Zf7tQ=s64",
      "userId": "14112562949732189780"
     },
     "user_tz": -60
    },
    "id": "-vT-g9kwxTZW"
   },
   "outputs": [],
   "source": [
    "def create_dataset(labels_file, dataset_path, batch_size=16, train=True):\n",
    "  data_df = pd.read_csv(labels_file, sep=';', index_col=0, header=0)\n",
    "  data_df['path'] = data_df.index.astype(str)\n",
    "  data_df['path'] = dataset_path + '/' + data_df['path'] + '.png'\n",
    "\n",
    "  # Creates a Dataset object\n",
    "  dataset_x = tf.data.Dataset.from_tensor_slices((data_df['path'], data_df['male'].astype(int)))\n",
    "  dataset_y = tf.data.Dataset.from_tensor_slices((data_df['boneage'].astype(float)))\n",
    "\n",
    "  # Reads the images\n",
    "  dataset_x = dataset_x.map(read, num_parallel_calls=tf.data.AUTOTUNE)\n",
    "  \n",
    "  if train:\n",
    "    # Cache the dataset_x\n",
    "    dataset_x = dataset_x.cache()\n",
    "\n",
    "    # Preprocess the images\n",
    "    dataset_x = dataset_x.map(preprocess, num_parallel_calls=tf.data.AUTOTUNE)\n",
    "  else:\n",
    "    # Preprocess (light) the images\n",
    "    dataset_x = dataset_x.map(preprocess_test, num_parallel_calls=tf.data.AUTOTUNE)\n",
    "\n",
    "  # Map the normalize function\n",
    "  dataset_y = dataset_y.map(normalize_y, num_parallel_calls=tf.data.AUTOTUNE)\n",
    "\n",
    "  # Cache the dataset_y\n",
    "  if train:\n",
    "    dataset_y = dataset_y.cache()\n",
    "\n",
    "  # Zip the dataset\n",
    "  dataset = tf.data.Dataset.zip((dataset_x, dataset_y))\n",
    "\n",
    "  # Shuffle\n",
    "  if train:\n",
    "    dataset = dataset.shuffle(int(len(dataset) * 0.05))\n",
    "  else:\n",
    "    dataset = dataset.cache()\n",
    "\n",
    "  # Batch\n",
    "  dataset = dataset.batch(batch_size=batch_size)\n",
    "\n",
    "  # Prefetch\n",
    "  dataset = dataset.prefetch(tf.data.AUTOTUNE)\n",
    "\n",
    "  return dataset"
   ]
  },
  {
   "cell_type": "code",
   "execution_count": 7,
   "metadata": {
    "executionInfo": {
     "elapsed": 7261,
     "status": "ok",
     "timestamp": 1644591289222,
     "user": {
      "displayName": "Fabio Vaccaro",
      "photoUrl": "https://lh3.googleusercontent.com/a-/AOh14GhpziRTRn5IdYVlq8ZdCz_7uBXByyMo0pLU1Zf7tQ=s64",
      "userId": "14112562949732189780"
     },
     "user_tz": -60
    },
    "id": "dH1MbJ5sFKa5"
   },
   "outputs": [
    {
     "name": "stdout",
     "output_type": "stream",
     "text": [
      "Metal device set to: Apple M1 Pro\n"
     ]
    },
    {
     "name": "stderr",
     "output_type": "stream",
     "text": [
      "2022-02-15 17:47:16.692049: I tensorflow/core/common_runtime/pluggable_device/pluggable_device_factory.cc:305] Could not identify NUMA node of platform GPU ID 0, defaulting to 0. Your kernel may not have been built with NUMA support.\n",
      "2022-02-15 17:47:16.692264: I tensorflow/core/common_runtime/pluggable_device/pluggable_device_factory.cc:271] Created TensorFlow device (/job:localhost/replica:0/task:0/device:GPU:0 with 0 MB memory) -> physical PluggableDevice (device: 0, name: METAL, pci bus id: <undefined>)\n"
     ]
    }
   ],
   "source": [
    "train_dataset = create_dataset(train_labels_file, train_dataset_path, train=True)\n",
    "val_dataset = create_dataset(val_labels_file, val_dataset_path, train=False)"
   ]
  },
  {
   "cell_type": "code",
   "execution_count": 8,
   "metadata": {
    "executionInfo": {
     "elapsed": 8,
     "status": "ok",
     "timestamp": 1644591289223,
     "user": {
      "displayName": "Fabio Vaccaro",
      "photoUrl": "https://lh3.googleusercontent.com/a-/AOh14GhpziRTRn5IdYVlq8ZdCz_7uBXByyMo0pLU1Zf7tQ=s64",
      "userId": "14112562949732189780"
     },
     "user_tz": -60
    },
    "id": "5MHWicVRgUES"
   },
   "outputs": [],
   "source": [
    "def show_image(iterator):\n",
    "  inputs, output = next(iterator)\n",
    "\n",
    "  image = inputs[0][0]\n",
    "  male = inputs[1][0]\n",
    "  boneage = output[0]\n",
    "\n",
    "  plt.figure()\n",
    "  plt.imshow(image[:,:,0], cmap='gray', vmin=-1.0, vmax=1.0)\n",
    "  plt.title(f'Male: {male} - Boneage: {boneage * boneage_max}')"
   ]
  },
  {
   "cell_type": "code",
   "execution_count": 9,
   "metadata": {
    "executionInfo": {
     "elapsed": 6,
     "status": "ok",
     "timestamp": 1644591289223,
     "user": {
      "displayName": "Fabio Vaccaro",
      "photoUrl": "https://lh3.googleusercontent.com/a-/AOh14GhpziRTRn5IdYVlq8ZdCz_7uBXByyMo0pLU1Zf7tQ=s64",
      "userId": "14112562949732189780"
     },
     "user_tz": -60
    },
    "id": "yKYWMvO7grYe"
   },
   "outputs": [],
   "source": [
    "if debug:\n",
    "  train_iterator = iter(train_dataset)"
   ]
  },
  {
   "cell_type": "code",
   "execution_count": 10,
   "metadata": {
    "executionInfo": {
     "elapsed": 6,
     "status": "ok",
     "timestamp": 1644591289223,
     "user": {
      "displayName": "Fabio Vaccaro",
      "photoUrl": "https://lh3.googleusercontent.com/a-/AOh14GhpziRTRn5IdYVlq8ZdCz_7uBXByyMo0pLU1Zf7tQ=s64",
      "userId": "14112562949732189780"
     },
     "user_tz": -60
    },
    "id": "7N-4-OyMg9i9"
   },
   "outputs": [],
   "source": [
    "if debug:\n",
    "  show_image(train_iterator)"
   ]
  },
  {
   "cell_type": "markdown",
   "metadata": {
    "id": "w5VcAC3hirLx"
   },
   "source": [
    "## Model definition"
   ]
  },
  {
   "cell_type": "code",
   "execution_count": 11,
   "metadata": {
    "executionInfo": {
     "elapsed": 5,
     "status": "ok",
     "timestamp": 1644591289223,
     "user": {
      "displayName": "Fabio Vaccaro",
      "photoUrl": "https://lh3.googleusercontent.com/a-/AOh14GhpziRTRn5IdYVlq8ZdCz_7uBXByyMo0pLU1Zf7tQ=s64",
      "userId": "14112562949732189780"
     },
     "user_tz": -60
    },
    "id": "9sJg5Nu2nRTQ"
   },
   "outputs": [],
   "source": [
    "def create_model(dropout_prob=0.2):\n",
    "  # InceptionV3 model -> Dealing with radiographys\n",
    "  input1_shape = (image_size[0], image_size[1], 3)\n",
    "  input1 = tf.keras.layers.Input(shape=input1_shape)\n",
    "\n",
    "  InceptionV3 = tf.keras.applications.InceptionV3(input_tensor=input1, input_shape=input1_shape, weights='imagenet', include_top=False)\n",
    "  xray_nn = tf.keras.layers.AveragePooling2D()(InceptionV3.output)\n",
    "  xray_nn = tf.keras.layers.Dropout(dropout_prob)(xray_nn)\n",
    "  xray_nn = tf.keras.layers.Flatten()(xray_nn)\n",
    "\n",
    "  # FCNN model -> Dealing with sex\n",
    "  input2_shape = (1,)\n",
    "  input2 = tf.keras.layers.Input(shape=input2_shape)\n",
    "\n",
    "  sex_nn = tf.keras.layers.Activation('linear')(input2)\n",
    "  sex_nn = tf.keras.layers.Dense(32, activation='relu')(sex_nn)\n",
    "  \n",
    "  # Models contatenations\n",
    "  concat_layer = tf.keras.layers.Concatenate()([xray_nn, sex_nn])\n",
    "\n",
    "  # Classification FCNN\n",
    "  x = tf.keras.layers.Dense(500, activation='relu')(concat_layer)\n",
    "  x = tf.keras.layers.Dense(1, activation=None)(x)\n",
    "\n",
    "  model = tf.keras.Model([input1, input2], x)\n",
    "\n",
    "  return model"
   ]
  },
  {
   "cell_type": "code",
   "execution_count": 12,
   "metadata": {
    "colab": {
     "base_uri": "https://localhost:8080/"
    },
    "executionInfo": {
     "elapsed": 5037,
     "status": "ok",
     "timestamp": 1644591294255,
     "user": {
      "displayName": "Fabio Vaccaro",
      "photoUrl": "https://lh3.googleusercontent.com/a-/AOh14GhpziRTRn5IdYVlq8ZdCz_7uBXByyMo0pLU1Zf7tQ=s64",
      "userId": "14112562949732189780"
     },
     "user_tz": -60
    },
    "id": "IDv4xMw8f2QE",
    "outputId": "61806b1a-1d77-423e-9038-3c47f98e0e86"
   },
   "outputs": [],
   "source": [
    "model = create_model()"
   ]
  },
  {
   "cell_type": "code",
   "execution_count": 13,
   "metadata": {
    "executionInfo": {
     "elapsed": 18,
     "status": "ok",
     "timestamp": 1644591294255,
     "user": {
      "displayName": "Fabio Vaccaro",
      "photoUrl": "https://lh3.googleusercontent.com/a-/AOh14GhpziRTRn5IdYVlq8ZdCz_7uBXByyMo0pLU1Zf7tQ=s64",
      "userId": "14112562949732189780"
     },
     "user_tz": -60
    },
    "id": "Zm-9uDJipahI"
   },
   "outputs": [],
   "source": [
    "if debug:\n",
    "  tf.keras.utils.plot_model(model, to_file=f'{model_name}.png', show_shapes=True)"
   ]
  },
  {
   "cell_type": "markdown",
   "metadata": {},
   "source": [
    "## Training"
   ]
  },
  {
   "cell_type": "code",
   "execution_count": null,
   "metadata": {
    "colab": {
     "base_uri": "https://localhost:8080/"
    },
    "id": "pHMSNGiAjBxE",
    "outputId": "b077ff80-d215-41c3-f23b-7464bf688548"
   },
   "outputs": [],
   "source": [
    "def mean_absolute_error_months(y_true, y_pred):\n",
    "   return tf.keras.metrics.mean_absolute_error(y_true, y_pred) * boneage_max\n",
    "\n",
    "optimizer = tf.keras.optimizers.Adam(learning_rate=1e-03) # Initial: 1e-03\n",
    "reduce_lr = tf.keras.callbacks.ReduceLROnPlateau(monitor='val_loss', verbose=1, factor=0.5, patience=25, cooldown=5)\n",
    "model.compile(optimizer=optimizer, loss=mean_absolute_error_months)\n",
    "\n",
    "if initial_epoch != 0:\n",
    "  model.load_weights(checkpoints_file)\n",
    "  csv_append = True\n",
    "else:\n",
    "  csv_append = False\n",
    "\n",
    "checkpoints = tf.keras.callbacks.ModelCheckpoint(checkpoints_file, save_freq='epoch', save_weights_only=True)\n",
    "saving = tf.keras.callbacks.ModelCheckpoint(model_file, save_best_only=True),\n",
    "csv_logger = tf.keras.callbacks.CSVLogger(log_file, append=csv_append)\n",
    "if info: print('[INFO] training model...')\n",
    "model.fit(\n",
    "    train_dataset,\n",
    "    validation_data=val_dataset,\n",
    "    validation_freq=1,\n",
    "    epochs=500,\n",
    "    callbacks=[saving, checkpoints, csv_logger, reduce_lr],\n",
    "    initial_epoch=initial_epoch\n",
    ")"
   ]
  },
  {
   "cell_type": "code",
   "execution_count": null,
   "metadata": {
    "id": "mkisbeGc1BES"
   },
   "outputs": [],
   "source": [
    "# Saving in case the model has not been saved during training\n",
    "model.save(model_file)"
   ]
  },
  {
   "cell_type": "markdown",
   "metadata": {},
   "source": [
    "## Evaluation (test loss)"
   ]
  },
  {
   "cell_type": "code",
   "execution_count": null,
   "metadata": {
    "id": "5jqFKCgXMkB2"
   },
   "outputs": [],
   "source": [
    "test_dataset = create_dataset(test_labels_file, test_dataset_path, train=False, batch_size=1)\n",
    "\n",
    "mae = model.evaluate(test_dataset)\n",
    "print(f'MAE: {mae}')"
   ]
  }
 ],
 "metadata": {
  "accelerator": "GPU",
  "colab": {
   "background_execution": "on",
   "collapsed_sections": [],
   "machine_shape": "hm",
   "name": "prediction_3channels.ipynb",
   "provenance": []
  },
  "kernelspec": {
   "display_name": "Tensorflow-Addons",
   "language": "python",
   "name": "tensorflow-addons"
  },
  "language_info": {
   "codemirror_mode": {
    "name": "ipython",
    "version": 3
   },
   "file_extension": ".py",
   "mimetype": "text/x-python",
   "name": "python",
   "nbconvert_exporter": "python",
   "pygments_lexer": "ipython3",
   "version": "3.8.12"
  }
 },
 "nbformat": 4,
 "nbformat_minor": 4
}
